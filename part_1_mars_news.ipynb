{
 "cells": [
  {
   "cell_type": "markdown",
   "metadata": {},
   "source": [
    "# Module 12 Challenge\n",
    "## Deliverable 1: Scrape Titles and Preview Text from Mars News"
   ]
  },
  {
   "cell_type": "code",
   "execution_count": 28,
   "metadata": {},
   "outputs": [],
   "source": [
    "# Import Splinter and BeautifulSoup\n",
    "from splinter import Browser\n",
    "from bs4 import BeautifulSoup as soup\n",
    "from webdriver_manager.chrome import ChromeDriverManager\n",
    "from pprint import pprint\n",
    "import requests"
   ]
  },
  {
   "cell_type": "code",
   "execution_count": 29,
   "metadata": {
    "scrolled": true
   },
   "outputs": [],
   "source": [
    "executable_path = {'executable_path': ChromeDriverManager().install()}\n",
    "browser = Browser('chrome', **executable_path, headless=False)"
   ]
  },
  {
   "cell_type": "markdown",
   "metadata": {},
   "source": [
    "### Step 1: Visit the Website\n",
    "\n",
    "1. Use automated browsing to visit the [Mars NASA news site](https://redplanetscience.com). Inspect the page to identify which elements to scrape.\n",
    "\n",
    "      > **Hint** To identify which elements to scrape, you might want to inspect the page by using Chrome DevTools."
   ]
  },
  {
   "cell_type": "code",
   "execution_count": 30,
   "metadata": {},
   "outputs": [],
   "source": [
    "# Visit the Mars NASA news site: https://redplanetscience.com\n",
    "url = \"https://redplanetscience.com\"\n",
    "browser.visit(url)"
   ]
  },
  {
   "cell_type": "markdown",
   "metadata": {},
   "source": [
    "### Step 2: Scrape the Website\n",
    "\n",
    "Create a Beautiful Soup object and use it to extract text elements from the website."
   ]
  },
  {
   "cell_type": "code",
   "execution_count": 31,
   "metadata": {},
   "outputs": [],
   "source": [
    "# Create a Beautiful Soup object\n",
    "soup = soup(browser.html, 'html.parser')\n"
   ]
  },
  {
   "cell_type": "code",
   "execution_count": 32,
   "metadata": {},
   "outputs": [],
   "source": [
    "# Extract all the text elements\n",
    "extract_text = soup.find_all('div', class_='list_text')"
   ]
  },
  {
   "cell_type": "markdown",
   "metadata": {},
   "source": [
    "### Step 3: Store the Results\n",
    "\n",
    "Extract the titles and preview text of the news articles that you scraped. Store the scraping results in Python data structures as follows:\n",
    "\n",
    "* Store each title-and-preview pair in a Python dictionary. And, give each dictionary two keys: `title` and `preview`. An example is the following:\n",
    "\n",
    "  ```python\n",
    "  {'title': \"Mars Rover Begins Mission!\", \n",
    "        'preview': \"NASA's Mars Rover begins a multiyear mission to collect data about the little-explored planet.\"}\n",
    "  ```\n",
    "\n",
    "* Store all the dictionaries in a Python list.\n",
    "\n",
    "* Print the list in your notebook."
   ]
  },
  {
   "cell_type": "code",
   "execution_count": 33,
   "metadata": {},
   "outputs": [],
   "source": [
    "# Create an empty list to store the dictionaries\n",
    "article_list = []"
   ]
  },
  {
   "cell_type": "code",
   "execution_count": 36,
   "metadata": {},
   "outputs": [
    {
     "name": "stdout",
     "output_type": "stream",
     "text": [
      "[{'preview': 'The mission team performed a crucial weight-balancing test on '\n",
      "             \"the rover in preparation for this summer's history-making launch \"\n",
      "             'to the Red Planet.',\n",
      "  'title': \"NASA's Perseverance Mars Rover Gets Balanced\"},\n",
      " {'preview': 'Instruments tailored to collect data during the descent of '\n",
      "             \"NASA's next rover through the Red Planet's atmosphere have been \"\n",
      "             'checked in flight.',\n",
      "  'title': 'Sensors on Mars 2020 Spacecraft Answer Long-Distance Call From '\n",
      "           'Earth'},\n",
      " {'preview': 'The NASA rover touched down eight years ago, on Aug. 5, 2012, '\n",
      "             'and will soon be joined by a second rover, Perseverance.',\n",
      "  'title': \"8 Martian Postcards to Celebrate Curiosity's Landing Anniversary\"},\n",
      " {'preview': 'In a Q&A, spacesuit designer Amy Ross explains how five samples, '\n",
      "             'including a piece of helmet visor, will be tested aboard the '\n",
      "             'rover, which is targeting a July 30 launch. ',\n",
      "  'title': \"NASA's Perseverance Rover Will Carry First Spacesuit Materials to \"\n",
      "           'Mars'},\n",
      " {'preview': \"NASA's Mars InSight mission honored one of the biggest bands of \"\n",
      "             'all time at Pasadena concert.',\n",
      "  'title': \"NASA-JPL Names 'Rolling Stones Rock' on Mars\"},\n",
      " {'preview': 'Want to name the robotic scientist NASA is sending to Mars in '\n",
      "             '2020? The student who named Curiosity — the rover currently '\n",
      "             'exploring Mars — will tell you this is an opportunity worth '\n",
      "             'taking.',\n",
      "  'title': 'Naming a NASA Mars Rover Can Change Your Life'},\n",
      " {'preview': 'The helicopter will be first aircraft to perform flight tests on '\n",
      "             'another planet.',\n",
      "  'title': \"NASA's Mars Helicopter Attached to Mars 2020 Rover \"},\n",
      " {'preview': 'Scientists are finding new mysteries since the geophysics '\n",
      "             'mission landed two years ago.',\n",
      "  'title': \"3 Things We've Learned From NASA's Mars InSight \"},\n",
      " {'preview': \"Jim Bridenstine addresses NASA's ambitious plans for the coming \"\n",
      "             'years, including Mars Sample Return.',\n",
      "  'title': 'NASA Administrator Statement on Moon to Mars Initiative, FY 2021 '\n",
      "           'Budget'},\n",
      " {'preview': \"The first to be rigged with microphones, the agency's latest \"\n",
      "             'Mars rover picked up the subtle sounds of its own inner workings '\n",
      "             'during interplanetary flight.',\n",
      "  'title': \"Hear Audio From NASA's Perseverance As It Travels Through Deep \"\n",
      "           'Space'},\n",
      " {'preview': 'A Mars Dust Tower Stands Out Dust storms are common on Mars. But '\n",
      "             'every decade or so, something unpredictable happens: a series of '\n",
      "             'runaway storms break out, covering the entire planet in a dusty '\n",
      "             'haze.',\n",
      "  'title': 'Global Storms on Mars Launch Dust Towers Into the Sky'},\n",
      " {'preview': \"Sensors on NASA's Perseverance will help prepare for future \"\n",
      "             'human exploration by taking weather measurements and studying '\n",
      "             'dust particles.',\n",
      "  'title': 'Mars Is Getting a New Robotic Meteorologist'},\n",
      " {'preview': \"PIXL, an instrument on the end of the Perseverance rover's arm, \"\n",
      "             'will search for chemical fingerprints left by ancient microbes.',\n",
      "  'title': \"NASA's New Mars Rover Will Use X-Rays to Hunt Fossils\"},\n",
      " {'preview': 'Headed to the Red Planet with the Perseverance rover, the '\n",
      "             'pioneering helicopter is powered up for the first time in '\n",
      "             'interplanetary space as part of a systems check.',\n",
      "  'title': \"NASA's Ingenuity Mars Helicopter Recharges Its Batteries in \"\n",
      "           'Flight'},\n",
      " {'preview': \"The scoop on the end of the spacecraft's robotic arm will be \"\n",
      "             \"used to 'pin' the mole against the wall of its hole.\",\n",
      "  'title': \"NASA's Push to Save the Mars InSight Lander's Heat Probe\"},\n",
      " {'preview': 'The mission team performed a crucial weight-balancing test on '\n",
      "             \"the rover in preparation for this summer's history-making launch \"\n",
      "             'to the Red Planet.',\n",
      "  'title': \"NASA's Perseverance Mars Rover Gets Balanced\"},\n",
      " {'preview': 'Instruments tailored to collect data during the descent of '\n",
      "             \"NASA's next rover through the Red Planet's atmosphere have been \"\n",
      "             'checked in flight.',\n",
      "  'title': 'Sensors on Mars 2020 Spacecraft Answer Long-Distance Call From '\n",
      "           'Earth'},\n",
      " {'preview': 'The NASA rover touched down eight years ago, on Aug. 5, 2012, '\n",
      "             'and will soon be joined by a second rover, Perseverance.',\n",
      "  'title': \"8 Martian Postcards to Celebrate Curiosity's Landing Anniversary\"},\n",
      " {'preview': 'In a Q&A, spacesuit designer Amy Ross explains how five samples, '\n",
      "             'including a piece of helmet visor, will be tested aboard the '\n",
      "             'rover, which is targeting a July 30 launch. ',\n",
      "  'title': \"NASA's Perseverance Rover Will Carry First Spacesuit Materials to \"\n",
      "           'Mars'},\n",
      " {'preview': \"NASA's Mars InSight mission honored one of the biggest bands of \"\n",
      "             'all time at Pasadena concert.',\n",
      "  'title': \"NASA-JPL Names 'Rolling Stones Rock' on Mars\"},\n",
      " {'preview': 'Want to name the robotic scientist NASA is sending to Mars in '\n",
      "             '2020? The student who named Curiosity — the rover currently '\n",
      "             'exploring Mars — will tell you this is an opportunity worth '\n",
      "             'taking.',\n",
      "  'title': 'Naming a NASA Mars Rover Can Change Your Life'},\n",
      " {'preview': 'The helicopter will be first aircraft to perform flight tests on '\n",
      "             'another planet.',\n",
      "  'title': \"NASA's Mars Helicopter Attached to Mars 2020 Rover \"},\n",
      " {'preview': 'Scientists are finding new mysteries since the geophysics '\n",
      "             'mission landed two years ago.',\n",
      "  'title': \"3 Things We've Learned From NASA's Mars InSight \"},\n",
      " {'preview': \"Jim Bridenstine addresses NASA's ambitious plans for the coming \"\n",
      "             'years, including Mars Sample Return.',\n",
      "  'title': 'NASA Administrator Statement on Moon to Mars Initiative, FY 2021 '\n",
      "           'Budget'},\n",
      " {'preview': \"The first to be rigged with microphones, the agency's latest \"\n",
      "             'Mars rover picked up the subtle sounds of its own inner workings '\n",
      "             'during interplanetary flight.',\n",
      "  'title': \"Hear Audio From NASA's Perseverance As It Travels Through Deep \"\n",
      "           'Space'},\n",
      " {'preview': 'A Mars Dust Tower Stands Out Dust storms are common on Mars. But '\n",
      "             'every decade or so, something unpredictable happens: a series of '\n",
      "             'runaway storms break out, covering the entire planet in a dusty '\n",
      "             'haze.',\n",
      "  'title': 'Global Storms on Mars Launch Dust Towers Into the Sky'},\n",
      " {'preview': \"Sensors on NASA's Perseverance will help prepare for future \"\n",
      "             'human exploration by taking weather measurements and studying '\n",
      "             'dust particles.',\n",
      "  'title': 'Mars Is Getting a New Robotic Meteorologist'},\n",
      " {'preview': \"PIXL, an instrument on the end of the Perseverance rover's arm, \"\n",
      "             'will search for chemical fingerprints left by ancient microbes.',\n",
      "  'title': \"NASA's New Mars Rover Will Use X-Rays to Hunt Fossils\"},\n",
      " {'preview': 'Headed to the Red Planet with the Perseverance rover, the '\n",
      "             'pioneering helicopter is powered up for the first time in '\n",
      "             'interplanetary space as part of a systems check.',\n",
      "  'title': \"NASA's Ingenuity Mars Helicopter Recharges Its Batteries in \"\n",
      "           'Flight'},\n",
      " {'preview': \"The scoop on the end of the spacecraft's robotic arm will be \"\n",
      "             \"used to 'pin' the mole against the wall of its hole.\",\n",
      "  'title': \"NASA's Push to Save the Mars InSight Lander's Heat Probe\"}]\n"
     ]
    }
   ],
   "source": [
    "# Loop through the text elements\n",
    "# Extract the title and preview text from the elements\n",
    "# Store each title and preview pair in a dictionary\n",
    "# Add the dictionary to the list\n",
    "for article in extract_text:\n",
    "    title = article.find('div', class_='content_title').text\n",
    "    preview = article.find('div', class_='article_teaser_body').text\n",
    "    article_dict = {\n",
    "        'title' : title,\n",
    "        'preview' : preview\n",
    "    }\n",
    "    article_list.append(article_dict)\n",
    "# Print the list to confirm success\n",
    "pprint(article_list)"
   ]
  },
  {
   "cell_type": "code",
   "execution_count": 37,
   "metadata": {},
   "outputs": [],
   "source": [
    "browser.quit()"
   ]
  },
  {
   "cell_type": "markdown",
   "metadata": {},
   "source": [
    "### (Optional) Step 4: Export the Data\n",
    "\n",
    "Optionally, store the scraped data in a file or database (to ease sharing the data with others). To do so, export the scraped data to either a JSON file or a MongoDB database."
   ]
  },
  {
   "cell_type": "code",
   "execution_count": 10,
   "metadata": {},
   "outputs": [],
   "source": [
    "# Export data to JSON\n"
   ]
  },
  {
   "cell_type": "code",
   "execution_count": null,
   "metadata": {},
   "outputs": [],
   "source": [
    "# Export data to MongoDB\n"
   ]
  }
 ],
 "metadata": {
  "kernelspec": {
   "display_name": "base",
   "language": "python",
   "name": "python3"
  },
  "language_info": {
   "codemirror_mode": {
    "name": "ipython",
    "version": 3
   },
   "file_extension": ".py",
   "mimetype": "text/x-python",
   "name": "python",
   "nbconvert_exporter": "python",
   "pygments_lexer": "ipython3",
   "version": "3.9.12"
  },
  "vscode": {
   "interpreter": {
    "hash": "ca02d05c83cb06a4d3d1bb3c2ad95bd9ee4b26f688526444572dc942a69d580d"
   }
  }
 },
 "nbformat": 4,
 "nbformat_minor": 4
}
